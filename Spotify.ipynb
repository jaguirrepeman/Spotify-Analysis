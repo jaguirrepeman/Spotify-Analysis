{
 "cells": [
  {
   "cell_type": "code",
   "execution_count": 1,
   "metadata": {
    "ExecuteTime": {
     "end_time": "2020-12-06T18:58:08.895854Z",
     "start_time": "2020-12-06T18:58:08.078045Z"
    }
   },
   "outputs": [],
   "source": [
    "import pandas as pd"
   ]
  },
  {
   "cell_type": "code",
   "execution_count": 2,
   "metadata": {
    "ExecuteTime": {
     "end_time": "2020-12-06T18:58:08.957690Z",
     "start_time": "2020-12-06T18:58:08.901839Z"
    }
   },
   "outputs": [],
   "source": [
    "pls = pd.read_json(\"D:/JESUS/DATA SCIENCE/SPOTIFY/MyData/Playlist1.json\")"
   ]
  },
  {
   "cell_type": "code",
   "execution_count": 3,
   "metadata": {
    "ExecuteTime": {
     "end_time": "2020-12-06T18:58:09.916124Z",
     "start_time": "2020-12-06T18:58:08.962677Z"
    }
   },
   "outputs": [],
   "source": [
    "def parse_playlist(pl):\n",
    "    try:\n",
    "        ret = pd.concat([pd.DataFrame(pl['items'][i]['track'], index = [i]) for i in range(len(pl['items']))])\\\n",
    "            .assign(name = pl['name'])\\\n",
    "            [['name', 'trackName', 'artistName', 'albumName']]\n",
    "    except:\n",
    "        ret = pd.DataFrame(columns = ['name', 'trackName', 'artistName', 'albumName'])\n",
    "    return(ret)"
   ]
  },
  {
   "cell_type": "code",
   "execution_count": 4,
   "metadata": {
    "ExecuteTime": {
     "end_time": "2020-12-06T18:58:11.424088Z",
     "start_time": "2020-12-06T18:58:09.938068Z"
    }
   },
   "outputs": [
    {
     "name": "stderr",
     "output_type": "stream",
     "text": [
      "C:\\Users\\jagui\\Anaconda3\\lib\\site-packages\\ipykernel_launcher.py:3: FutureWarning: Sorting because non-concatenation axis is not aligned. A future version\n",
      "of pandas will change to not sort by default.\n",
      "\n",
      "To accept the future behavior, pass 'sort=False'.\n",
      "\n",
      "To retain the current behavior and silence the warning, pass 'sort=True'.\n",
      "\n",
      "  This is separate from the ipykernel package so we can avoid doing imports until\n"
     ]
    }
   ],
   "source": [
    "playlists = pd.concat([parse_playlist(pls.playlists[i]) for i in range(len(pls))])"
   ]
  },
  {
   "cell_type": "code",
   "execution_count": 5,
   "metadata": {
    "ExecuteTime": {
     "end_time": "2020-12-06T18:58:12.528134Z",
     "start_time": "2020-12-06T18:58:11.427080Z"
    }
   },
   "outputs": [],
   "source": [
    "streaming_hist = pd.concat([\n",
    "    pd.read_json(f\"D:/JESUS/DATA SCIENCE/SPOTIFY/MyData/StreamingHistory{i}.json\")\\\n",
    "               for i in range(0, 5)])\\\n",
    "    .assign(skipped = lambda x: x.msPlayed < 10000)\\\n",
    "    .assign(ds = lambda x: pd.to_datetime(x.endTime))\\\n",
    "    .assign(day = lambda x: x.ds.dt.date)\n"
   ]
  },
  {
   "cell_type": "code",
   "execution_count": 6,
   "metadata": {
    "ExecuteTime": {
     "end_time": "2020-12-06T18:58:12.606922Z",
     "start_time": "2020-12-06T18:58:12.539105Z"
    }
   },
   "outputs": [
    {
     "data": {
      "text/plain": [
       "hour\n",
       "0       70\n",
       "1       27\n",
       "2       23\n",
       "3        5\n",
       "4        7\n",
       "5      134\n",
       "6      607\n",
       "7     1602\n",
       "8     1186\n",
       "9      646\n",
       "10     678\n",
       "11     871\n",
       "12     972\n",
       "13    1176\n",
       "14     997\n",
       "15     799\n",
       "16     876\n",
       "17    1254\n",
       "18    1610\n",
       "19    1638\n",
       "20    1146\n",
       "21     616\n",
       "22     231\n",
       "23     110\n",
       "dtype: int64"
      ]
     },
     "execution_count": 6,
     "metadata": {},
     "output_type": "execute_result"
    }
   ],
   "source": [
    "streaming_hist\\\n",
    "    .loc[lambda x: ~x.skipped]\\\n",
    "    .assign(hour = lambda x: x.ds.dt.hour)\\\n",
    "    .groupby(\"hour\").size()"
   ]
  },
  {
   "cell_type": "code",
   "execution_count": 132,
   "metadata": {
    "ExecuteTime": {
     "end_time": "2020-12-06T18:16:17.534041Z",
     "start_time": "2020-12-06T18:16:17.496177Z"
    }
   },
   "outputs": [
    {
     "data": {
      "text/plain": [
       "hour\n",
       "0       2\n",
       "1       6\n",
       "2       4\n",
       "4       2\n",
       "5      45\n",
       "6     278\n",
       "7     497\n",
       "8     359\n",
       "9     154\n",
       "10    159\n",
       "11    185\n",
       "12    225\n",
       "13    317\n",
       "14    268\n",
       "15    144\n",
       "16    301\n",
       "17    446\n",
       "18    401\n",
       "19    573\n",
       "20    273\n",
       "21    157\n",
       "22     73\n",
       "23     12\n",
       "dtype: int64"
      ]
     },
     "execution_count": 132,
     "metadata": {},
     "output_type": "execute_result"
    }
   ],
   "source": [
    "streaming_hist\\\n",
    "    .loc[lambda x: ~x.skipped]\\\n",
    "    .loc[lambda x: x.artistName == \"blink-182\"]\\\n",
    "    .assign(hour = lambda x: x.ds.dt.hour)\\\n",
    "    .groupby(\"hour\").size()"
   ]
  },
  {
   "cell_type": "code",
   "execution_count": 106,
   "metadata": {
    "ExecuteTime": {
     "end_time": "2020-12-06T17:57:52.873896Z",
     "start_time": "2020-12-06T17:57:52.858939Z"
    }
   },
   "outputs": [
    {
     "data": {
      "text/plain": [
       "(43985, 6)"
      ]
     },
     "execution_count": 106,
     "metadata": {},
     "output_type": "execute_result"
    }
   ],
   "source": [
    "streaming_hist.shape"
   ]
  },
  {
   "cell_type": "code",
   "execution_count": 107,
   "metadata": {
    "ExecuteTime": {
     "end_time": "2020-12-06T17:57:55.851928Z",
     "start_time": "2020-12-06T17:57:55.822009Z"
    }
   },
   "outputs": [
    {
     "data": {
      "text/plain": [
       "0.6071160622939639"
      ]
     },
     "execution_count": 107,
     "metadata": {},
     "output_type": "execute_result"
    }
   ],
   "source": [
    "streaming_hist.skipped.mean()\n",
    "    "
   ]
  },
  {
   "cell_type": "code",
   "execution_count": 110,
   "metadata": {
    "ExecuteTime": {
     "end_time": "2020-12-06T17:58:23.059967Z",
     "start_time": "2020-12-06T17:58:22.814626Z"
    }
   },
   "outputs": [
    {
     "data": {
      "text/plain": [
       "<matplotlib.axes._subplots.AxesSubplot at 0x146fc4c9dd8>"
      ]
     },
     "execution_count": 110,
     "metadata": {},
     "output_type": "execute_result"
    },
    {
     "data": {
      "image/png": "[encoded data removed]",
      "text/plain": [
       "<matplotlib.figure.Figure at 0x146fc4905c0>"
      ]
     },
     "metadata": {},
     "output_type": "display_data"
    }
   ],
   "source": [
    "streaming_hist\\\n",
    "    .assign(skipped = lambda x: x.msPlayed < 10000)\\\n",
    "    .groupby(\"day\").skipped.mean().hist()"
   ]
  },
  {
   "cell_type": "code",
   "execution_count": 114,
   "metadata": {
    "ExecuteTime": {
     "end_time": "2020-12-06T17:59:46.623936Z",
     "start_time": "2020-12-06T17:59:46.351633Z"
    }
   },
   "outputs": [
    {
     "data": {
      "text/plain": [
       "<matplotlib.axes._subplots.AxesSubplot at 0x146fd79a208>"
      ]
     },
     "execution_count": 114,
     "metadata": {},
     "output_type": "execute_result"
    },
    {
     "data": {
      "image/png": "[encoded data removed]",
      "text/plain": [
       "<matplotlib.figure.Figure at 0x146fd877d30>"
      ]
     },
     "metadata": {},
     "output_type": "display_data"
    }
   ],
   "source": [
    "streaming_hist\\\n",
    "    .assign(skipped = lambda x: x.msPlayed < 10000)\\\n",
    "    .loc[lambda x: ~x.skipped]\\\n",
    "    .groupby(\"day\").size().reset_index().plot(x = \"day\", y = 0)"
   ]
  },
  {
   "cell_type": "code",
   "execution_count": 117,
   "metadata": {
    "ExecuteTime": {
     "end_time": "2020-12-06T18:00:33.344491Z",
     "start_time": "2020-12-06T18:00:33.091170Z"
    }
   },
   "outputs": [
    {
     "data": {
      "text/plain": [
       "<matplotlib.axes._subplots.AxesSubplot at 0x146fd86db00>"
      ]
     },
     "execution_count": 117,
     "metadata": {},
     "output_type": "execute_result"
    },
    {
     "data": {
      "image/png": "[encoded data removed]",
      "text/plain": [
       "<matplotlib.figure.Figure at 0x146fc2e8240>"
      ]
     },
     "metadata": {},
     "output_type": "display_data"
    }
   ],
   "source": [
    "streaming_hist\\\n",
    "    .assign(skipped = lambda x: x.msPlayed < 10000)\\\n",
    "    .loc[lambda x: ~x.skipped]\\\n",
    "    .loc[lambda x: x.artistName == \"Sum 41\"].groupby(\"day\").size().reset_index().plot(x = \"day\", y = 0)"
   ]
  },
  {
   "cell_type": "code",
   "execution_count": 8,
   "metadata": {
    "ExecuteTime": {
     "end_time": "2020-12-06T18:58:54.369149Z",
     "start_time": "2020-12-06T18:58:54.078926Z"
    }
   },
   "outputs": [
    {
     "data": {
      "text/plain": [
       "<matplotlib.axes._subplots.AxesSubplot at 0x1a4b8464da0>"
      ]
     },
     "execution_count": 8,
     "metadata": {},
     "output_type": "execute_result"
    },
    {
     "data": {
      "image/png": "[encoded data removed]",
      "text/plain": [
       "<matplotlib.figure.Figure at 0x1a4b8464748>"
      ]
     },
     "metadata": {},
     "output_type": "display_data"
    }
   ],
   "source": [
    "streaming_hist\\\n",
    "    .assign(skipped = lambda x: x.msPlayed < 10000)\\\n",
    "    .loc[lambda x: ~x.skipped]\\\n",
    "    .loc[lambda x: x.artistName == \"blink-182\"].groupby(\"day\").size().reset_index().plot(x = \"day\", y = 0)"
   ]
  },
  {
   "cell_type": "code",
   "execution_count": 12,
   "metadata": {
    "ExecuteTime": {
     "end_time": "2020-12-06T19:06:50.848900Z",
     "start_time": "2020-12-06T19:06:47.728254Z"
    }
   },
   "outputs": [
    {
     "name": "stdout",
     "output_type": "stream",
     "text": [
      "Requirement already up-to-date: numpy in c:\\users\\jagui\\anaconda3\\lib\\site-packages (1.19.4)\n"
     ]
    },
    {
     "name": "stderr",
     "output_type": "stream",
     "text": [
      "WARNING: You are using pip version 20.1; however, version 20.3.1 is available.\n",
      "You should consider upgrading via the 'c:\\users\\jagui\\anaconda3\\python.exe -m pip install --upgrade pip' command.\n"
     ]
    }
   ],
   "source": [
    "!pip install numpy --upgrade --user"
   ]
  },
  {
   "cell_type": "code",
   "execution_count": 11,
   "metadata": {
    "ExecuteTime": {
     "end_time": "2020-12-06T19:00:30.644579Z",
     "start_time": "2020-12-06T19:00:30.584738Z"
    }
   },
   "outputs": [
    {
     "ename": "ModuleNotFoundError",
     "evalue": "No module named 'numpy.testing.decorators'",
     "output_type": "error",
     "traceback": [
      "\u001b[1;31m---------------------------------------------------------------------------\u001b[0m",
      "\u001b[1;31mModuleNotFoundError\u001b[0m                       Traceback (most recent call last)",
      "\u001b[1;32m<ipython-input-11-a84c0541e888>\u001b[0m in \u001b[0;36m<module>\u001b[1;34m()\u001b[0m\n\u001b[1;32m----> 1\u001b[1;33m \u001b[1;32mimport\u001b[0m \u001b[0mseaborn\u001b[0m \u001b[1;32mas\u001b[0m \u001b[0msns\u001b[0m\u001b[1;33m\u001b[0m\u001b[0m\n\u001b[0m",
      "\u001b[1;32m~\\Anaconda3\\lib\\site-packages\\seaborn\\__init__.py\u001b[0m in \u001b[0;36m<module>\u001b[1;34m()\u001b[0m\n\u001b[0;32m      4\u001b[0m \u001b[1;33m\u001b[0m\u001b[0m\n\u001b[0;32m      5\u001b[0m \u001b[1;31m# Import seaborn objects\u001b[0m\u001b[1;33m\u001b[0m\u001b[1;33m\u001b[0m\u001b[0m\n\u001b[1;32m----> 6\u001b[1;33m \u001b[1;32mfrom\u001b[0m \u001b[1;33m.\u001b[0m\u001b[0mrcmod\u001b[0m \u001b[1;32mimport\u001b[0m \u001b[1;33m*\u001b[0m\u001b[1;33m\u001b[0m\u001b[0m\n\u001b[0m\u001b[0;32m      7\u001b[0m \u001b[1;32mfrom\u001b[0m \u001b[1;33m.\u001b[0m\u001b[0mutils\u001b[0m \u001b[1;32mimport\u001b[0m \u001b[1;33m*\u001b[0m\u001b[1;33m\u001b[0m\u001b[0m\n\u001b[0;32m      8\u001b[0m \u001b[1;32mfrom\u001b[0m \u001b[1;33m.\u001b[0m\u001b[0mpalettes\u001b[0m \u001b[1;32mimport\u001b[0m \u001b[1;33m*\u001b[0m\u001b[1;33m\u001b[0m\u001b[0m\n",
      "\u001b[1;32m~\\Anaconda3\\lib\\site-packages\\seaborn\\rcmod.py\u001b[0m in \u001b[0;36m<module>\u001b[1;34m()\u001b[0m\n\u001b[0;32m      3\u001b[0m \u001b[1;32mimport\u001b[0m \u001b[0mfunctools\u001b[0m\u001b[1;33m\u001b[0m\u001b[0m\n\u001b[0;32m      4\u001b[0m \u001b[1;32mimport\u001b[0m \u001b[0mmatplotlib\u001b[0m \u001b[1;32mas\u001b[0m \u001b[0mmpl\u001b[0m\u001b[1;33m\u001b[0m\u001b[0m\n\u001b[1;32m----> 5\u001b[1;33m \u001b[1;32mfrom\u001b[0m \u001b[1;33m.\u001b[0m \u001b[1;32mimport\u001b[0m \u001b[0mpalettes\u001b[0m\u001b[1;33m,\u001b[0m \u001b[0m_orig_rc_params\u001b[0m\u001b[1;33m\u001b[0m\u001b[0m\n\u001b[0m\u001b[0;32m      6\u001b[0m \u001b[1;33m\u001b[0m\u001b[0m\n\u001b[0;32m      7\u001b[0m \u001b[1;33m\u001b[0m\u001b[0m\n",
      "\u001b[1;32m~\\Anaconda3\\lib\\site-packages\\seaborn\\palettes.py\u001b[0m in \u001b[0;36m<module>\u001b[1;34m()\u001b[0m\n\u001b[0;32m     10\u001b[0m \u001b[1;32mfrom\u001b[0m \u001b[1;33m.\u001b[0m\u001b[0mexternal\u001b[0m\u001b[1;33m.\u001b[0m\u001b[0msix\u001b[0m\u001b[1;33m.\u001b[0m\u001b[0mmoves\u001b[0m \u001b[1;32mimport\u001b[0m \u001b[0mrange\u001b[0m\u001b[1;33m\u001b[0m\u001b[0m\n\u001b[0;32m     11\u001b[0m \u001b[1;33m\u001b[0m\u001b[0m\n\u001b[1;32m---> 12\u001b[1;33m \u001b[1;32mfrom\u001b[0m \u001b[1;33m.\u001b[0m\u001b[0mutils\u001b[0m \u001b[1;32mimport\u001b[0m \u001b[0mdesaturate\u001b[0m\u001b[1;33m,\u001b[0m \u001b[0mset_hls_values\u001b[0m\u001b[1;33m,\u001b[0m \u001b[0mget_color_cycle\u001b[0m\u001b[1;33m\u001b[0m\u001b[0m\n\u001b[0m\u001b[0;32m     13\u001b[0m \u001b[1;32mfrom\u001b[0m \u001b[1;33m.\u001b[0m\u001b[0mcolors\u001b[0m \u001b[1;32mimport\u001b[0m \u001b[0mxkcd_rgb\u001b[0m\u001b[1;33m,\u001b[0m \u001b[0mcrayons\u001b[0m\u001b[1;33m\u001b[0m\u001b[0m\n\u001b[0;32m     14\u001b[0m \u001b[1;33m\u001b[0m\u001b[0m\n",
      "\u001b[1;32m~\\Anaconda3\\lib\\site-packages\\seaborn\\utils.py\u001b[0m in \u001b[0;36m<module>\u001b[1;34m()\u001b[0m\n\u001b[0;32m      5\u001b[0m \u001b[1;33m\u001b[0m\u001b[0m\n\u001b[0;32m      6\u001b[0m \u001b[1;32mimport\u001b[0m \u001b[0mnumpy\u001b[0m \u001b[1;32mas\u001b[0m \u001b[0mnp\u001b[0m\u001b[1;33m\u001b[0m\u001b[0m\n\u001b[1;32m----> 7\u001b[1;33m \u001b[1;32mfrom\u001b[0m \u001b[0mscipy\u001b[0m \u001b[1;32mimport\u001b[0m \u001b[0mstats\u001b[0m\u001b[1;33m\u001b[0m\u001b[0m\n\u001b[0m\u001b[0;32m      8\u001b[0m \u001b[1;32mimport\u001b[0m \u001b[0mpandas\u001b[0m \u001b[1;32mas\u001b[0m \u001b[0mpd\u001b[0m\u001b[1;33m\u001b[0m\u001b[0m\n\u001b[0;32m      9\u001b[0m \u001b[1;32mimport\u001b[0m \u001b[0mmatplotlib\u001b[0m \u001b[1;32mas\u001b[0m \u001b[0mmpl\u001b[0m\u001b[1;33m\u001b[0m\u001b[0m\n",
      "\u001b[1;32m~\\Anaconda3\\lib\\site-packages\\scipy\\stats\\__init__.py\u001b[0m in \u001b[0;36m<module>\u001b[1;34m()\u001b[0m\n\u001b[0;32m    343\u001b[0m \u001b[1;32mfrom\u001b[0m \u001b[1;33m.\u001b[0m\u001b[0mstats\u001b[0m \u001b[1;32mimport\u001b[0m \u001b[1;33m*\u001b[0m\u001b[1;33m\u001b[0m\u001b[0m\n\u001b[0;32m    344\u001b[0m \u001b[1;32mfrom\u001b[0m \u001b[1;33m.\u001b[0m\u001b[0mdistributions\u001b[0m \u001b[1;32mimport\u001b[0m \u001b[1;33m*\u001b[0m\u001b[1;33m\u001b[0m\u001b[0m\n\u001b[1;32m--> 345\u001b[1;33m \u001b[1;32mfrom\u001b[0m \u001b[1;33m.\u001b[0m\u001b[0mmorestats\u001b[0m \u001b[1;32mimport\u001b[0m \u001b[1;33m*\u001b[0m\u001b[1;33m\u001b[0m\u001b[0m\n\u001b[0m\u001b[0;32m    346\u001b[0m \u001b[1;32mfrom\u001b[0m \u001b[1;33m.\u001b[0m\u001b[0m_binned_statistic\u001b[0m \u001b[1;32mimport\u001b[0m \u001b[1;33m*\u001b[0m\u001b[1;33m\u001b[0m\u001b[0m\n\u001b[0;32m    347\u001b[0m \u001b[1;32mfrom\u001b[0m \u001b[1;33m.\u001b[0m\u001b[0mkde\u001b[0m \u001b[1;32mimport\u001b[0m \u001b[0mgaussian_kde\u001b[0m\u001b[1;33m\u001b[0m\u001b[0m\n",
      "\u001b[1;32m~\\Anaconda3\\lib\\site-packages\\scipy\\stats\\morestats.py\u001b[0m in \u001b[0;36m<module>\u001b[1;34m()\u001b[0m\n\u001b[0;32m     10\u001b[0m                    \u001b[0msqrt\u001b[0m\u001b[1;33m,\u001b[0m \u001b[0mceil\u001b[0m\u001b[1;33m,\u001b[0m \u001b[0mfloor\u001b[0m\u001b[1;33m,\u001b[0m \u001b[0marray\u001b[0m\u001b[1;33m,\u001b[0m \u001b[0mcompress\u001b[0m\u001b[1;33m,\u001b[0m\u001b[1;33m\u001b[0m\u001b[0m\n\u001b[0;32m     11\u001b[0m                    pi, exp, ravel, count_nonzero, sin, cos, arctan2, hypot)\n\u001b[1;32m---> 12\u001b[1;33m \u001b[1;32mfrom\u001b[0m \u001b[0mnumpy\u001b[0m\u001b[1;33m.\u001b[0m\u001b[0mtesting\u001b[0m\u001b[1;33m.\u001b[0m\u001b[0mdecorators\u001b[0m \u001b[1;32mimport\u001b[0m \u001b[0msetastest\u001b[0m\u001b[1;33m\u001b[0m\u001b[0m\n\u001b[0m\u001b[0;32m     13\u001b[0m \u001b[1;33m\u001b[0m\u001b[0m\n\u001b[0;32m     14\u001b[0m \u001b[1;32mfrom\u001b[0m \u001b[0mscipy\u001b[0m\u001b[1;33m.\u001b[0m\u001b[0m_lib\u001b[0m\u001b[1;33m.\u001b[0m\u001b[0msix\u001b[0m \u001b[1;32mimport\u001b[0m \u001b[0mstring_types\u001b[0m\u001b[1;33m\u001b[0m\u001b[0m\n",
      "\u001b[1;31mModuleNotFoundError\u001b[0m: No module named 'numpy.testing.decorators'"
     ]
    }
   ],
   "source": [
    "import seaborn as sns"
   ]
  },
  {
   "cell_type": "code",
   "execution_count": null,
   "metadata": {},
   "outputs": [],
   "source": [
    "sns.lin"
   ]
  },
  {
   "cell_type": "code",
   "execution_count": 121,
   "metadata": {
    "ExecuteTime": {
     "end_time": "2020-12-06T18:01:27.122366Z",
     "start_time": "2020-12-06T18:01:26.846104Z"
    }
   },
   "outputs": [
    {
     "data": {
      "text/plain": [
       "<matplotlib.axes._subplots.AxesSubplot at 0x146fc84cf98>"
      ]
     },
     "execution_count": 121,
     "metadata": {},
     "output_type": "execute_result"
    },
    {
     "data": {
      "image/png": "[encoded data removed]",
      "text/plain": [
       "<matplotlib.figure.Figure at 0x146fc89a400>"
      ]
     },
     "metadata": {},
     "output_type": "display_data"
    }
   ],
   "source": [
    "streaming_hist\\\n",
    "    .assign(skipped = lambda x: x.msPlayed < 10000)\\\n",
    "    .loc[lambda x: ~x.skipped]\\\n",
    "    .loc[lambda x: x.artistName == \"Red Hot Chili Peppers\"].groupby(\"day\").size().reset_index().plot(x = \"day\", y = 0)"
   ]
  },
  {
   "cell_type": "code",
   "execution_count": 122,
   "metadata": {
    "ExecuteTime": {
     "end_time": "2020-12-06T18:01:51.368082Z",
     "start_time": "2020-12-06T18:01:51.120745Z"
    }
   },
   "outputs": [
    {
     "data": {
      "text/plain": [
       "<matplotlib.axes._subplots.AxesSubplot at 0x146fc89a518>"
      ]
     },
     "execution_count": 122,
     "metadata": {},
     "output_type": "execute_result"
    },
    {
     "data": {
      "image/png": "[encoded data removed]",
      "text/plain": [
       "<matplotlib.figure.Figure at 0x146fc824898>"
      ]
     },
     "metadata": {},
     "output_type": "display_data"
    }
   ],
   "source": [
    "streaming_hist\\\n",
    "    .assign(skipped = lambda x: x.msPlayed < 10000)\\\n",
    "    .loc[lambda x: ~x.skipped]\\\n",
    "    .loc[lambda x: x.artistName == \"Foo Fighters\"].groupby(\"day\").size().reset_index().plot(x = \"day\", y = 0)"
   ]
  },
  {
   "cell_type": "code",
   "execution_count": 49,
   "metadata": {
    "ExecuteTime": {
     "end_time": "2020-12-06T13:07:55.126423Z",
     "start_time": "2020-12-06T13:07:55.096504Z"
    }
   },
   "outputs": [
    {
     "data": {
      "text/plain": [
       "'2020-12-02 20:35'"
      ]
     },
     "execution_count": 49,
     "metadata": {},
     "output_type": "execute_result"
    }
   ],
   "source": [
    "streaming_hist.endTime.max()"
   ]
  },
  {
   "cell_type": "code",
   "execution_count": 36,
   "metadata": {
    "ExecuteTime": {
     "end_time": "2020-12-06T12:57:54.134452Z",
     "start_time": "2020-12-06T12:57:53.988842Z"
    },
    "scrolled": true
   },
   "outputs": [
    {
     "data": {
      "text/plain": [
       "artistName             trackName                        day       \n",
       "Lifehouse              Hanging By A Moment              2020-01-17    37\n",
       "blink-182              Going Away To College            2020-09-23    25\n",
       "                                                        2020-09-24    24\n",
       "                       All Of This                      2020-09-29    23\n",
       "Fall Out Boy           Uma Thurman                      2020-05-25    22\n",
       "blink-182              Dysentery Gary                   2020-09-23    20\n",
       "                       The Rock Show                    2020-09-07    19\n",
       "                       Aliens Exist                     2020-09-24    19\n",
       "The Pretty Reckless    Cold Blooded                     2020-06-09    19\n",
       "blink-182              Always                           2020-09-29    18\n",
       "Fall Out Boy           Novocaine                        2020-05-25    18\n",
       "Red Hot Chili Peppers  Road Trippin'                    2020-04-21    17\n",
       "Claude Debussy         Debussy: Claro de luna           2020-04-15    16\n",
       "blink-182              Dumpweed                         2020-09-25    16\n",
       "                       Easy Target                      2020-09-29    15\n",
       "                       Asthenia                         2020-09-29    15\n",
       "Fall Out Boy           Centuries                        2020-05-25    14\n",
       "blink-182              Asthenia                         2020-09-24    14\n",
       "                       Feeling This                     2020-09-09    14\n",
       "The Pretty Reckless    Cold Blooded                     2020-06-08    14\n",
       "blink-182              Here's Your Letter               2020-09-29    14\n",
       "Fall Out Boy           Twin Skeleton's (Hotel In NYC)   2020-05-25    13\n",
       "blink-182              Obvious                          2020-09-29    13\n",
       "                       Ghost On The Dance Floor         2020-11-16    13\n",
       "Coldplay               Viva La Vida                     2020-03-20    13\n",
       "The Pretty Reckless    Goin' Down                       2020-06-09    13\n",
       "Rival Sons             Pressure and Time                2020-01-14    13\n",
       "blink-182              Don't Leave Me                   2020-10-10    12\n",
       "                       Go                               2020-09-29    12\n",
       "Red Hot Chili Peppers  Road Trippin'                    2020-04-24    12\n",
       "                                                                      ..\n",
       "Ryan Adams             Wonderwall                       2020-07-23     1\n",
       "                                                        2020-09-22     1\n",
       "Ryan Cabrera           On the Way Down                  2020-05-08     1\n",
       "Ross Copperman         Found You                        2020-02-26     1\n",
       "Rogers                 Mittelfinger fÃ¼r immer          2019-12-16     1\n",
       "Rod Stewart            It Takes Two (with Tina Turner)  2020-01-11     1\n",
       "Rival Sons             Young Love                       2020-01-13     1\n",
       "                       Pressure and Time                2020-02-23     1\n",
       "                                                        2020-02-27     1\n",
       "                                                        2020-03-02     1\n",
       "                                                        2020-03-07     1\n",
       "                                                        2020-04-25     1\n",
       "                                                        2020-05-24     1\n",
       "                       Save Me                          2020-01-18     1\n",
       "                                                        2020-02-20     1\n",
       "                       White Noise                      2020-01-13     1\n",
       "                                                        2020-01-18     1\n",
       "                       Young Love                       2020-01-18     1\n",
       "Roberta Flack          Killing Me Softly with His Song  2020-05-11     1\n",
       "Rob Thomas             Someday                          2020-05-21     1\n",
       "                                                        2020-06-02     1\n",
       "Rob Zombie             Dragula                          2020-09-28     1\n",
       "                       Feel So Numb                     2019-12-19     1\n",
       "                                                        2020-01-12     1\n",
       "                                                        2020-01-16     1\n",
       "                                                        2020-01-21     1\n",
       "                                                        2020-02-19     1\n",
       "                                                        2020-02-22     1\n",
       "                       Weâ€™re An American Band         2020-05-21     1\n",
       "(Hed) P.E.             Raise Hell                       2020-03-04     1\n",
       "Length: 31928, dtype: int64"
      ]
     },
     "execution_count": 36,
     "metadata": {},
     "output_type": "execute_result"
    }
   ],
   "source": [
    "streaming_hist\\\n",
    "    .assign(ds = lambda x: pd.to_datetime(x.endTime))\\\n",
    "    .assign(day = lambda x: x.ds.dt.date)\\\n",
    "    .groupby([\"artistName\", \"trackName\", \"day\"]).size().sort_values(ascending = False)"
   ]
  },
  {
   "cell_type": "code",
   "execution_count": 39,
   "metadata": {
    "ExecuteTime": {
     "end_time": "2020-12-06T13:02:26.461176Z",
     "start_time": "2020-12-06T13:02:26.382372Z"
    },
    "scrolled": true
   },
   "outputs": [
    {
     "data": {
      "text/plain": [
       "artistName             trackName                                                                                  \n",
       "blink-182              I Miss You                                                                                     153\n",
       "Red Hot Chili Peppers  Wet Sand                                                                                       115\n",
       "blink-182              Stay Together For The Kids                                                                     114\n",
       "                       After Midnight                                                                                 110\n",
       "                       What's My Age Again?                                                                           102\n",
       "                       All The Small Things                                                                           102\n",
       "                       Adam's Song                                                                                     96\n",
       "Sum 41                 Pieces                                                                                          94\n",
       "blink-182              Dammit                                                                                          88\n",
       "                       Dysentery Gary                                                                                  86\n",
       "Scorpions              Still Loving You - 2015 - Remaster                                                              85\n",
       "blink-182              Man Overboard                                                                                   84\n",
       "                       Dumpweed                                                                                        84\n",
       "Red Hot Chili Peppers  Under the Bridge                                                                                79\n",
       "blink-182              Ghost On The Dance Floor                                                                        76\n",
       "Red Hot Chili Peppers  Road Trippin'                                                                                   76\n",
       "Seether                Broken                                                                                          75\n",
       "blink-182              Going Away To College                                                                           75\n",
       "                       Feeling This                                                                                    73\n",
       "Sum 41                 Best Of Me                                                                                      73\n",
       "Foo Fighters           No Way Back                                                                                     71\n",
       "Sum 41                 The Hell Song                                                                                   66\n",
       "blink-182              The Rock Show                                                                                   65\n",
       "                       Carousel                                                                                        64\n",
       "U2                     With Or Without You - Remastered                                                                62\n",
       "blink-182              First Date                                                                                      60\n",
       "Foo Fighters           Times Like These                                                                                59\n",
       "Eagles                 Hotel California - 2013 Remaster                                                                58\n",
       "Sum 41                 Some Say                                                                                        58\n",
       "Foo Fighters           Everlong - Acoustic Version                                                                     58\n",
       "                                                                                                                     ... \n",
       "Ludwig van Beethoven   Beethoven: Piano Sonata No. 8 in C Minor, Op. 13 \"PathÃ©tique\": II. Adagio cantabile             1\n",
       "                       Piano Sonata No. 8 in C Minor, Op. 13 \"PathÃ©tique\": I. Grave - Allegro di molto e con brio      1\n",
       "                       Piano Sonata No. 8 in C Minor, Op. 13 \"PathÃ©tique\": II. Adagio cantabile                        1\n",
       "                       Piano Sonata No.14 In C Sharp Minor, Op.27 No.2 -\"Moonlight\": 3. Presto agitato                  1\n",
       "zebrahead              Broadcast To The World                                                                           1\n",
       "Ludwig van Beethoven   Piano Sonata No.23 in F minor, Op.57 -\"Appassionata\": 1. Allegro assai                           1\n",
       "                       Piano Sonata No.23 in F minor, Op.57 -\"Appassionata\": 2. Andante con moto                        1\n",
       "                       Quinta sinfonÃ­a en do menor, op. 67: IV. Allegro                                                1\n",
       "                       Scherzo, Molto vivace (Novena SinfÃ³nia en Re Menor op. 125, Coral)                              1\n",
       "M2M                    Don't Say You Love Me                                                                            1\n",
       "                       Everything You Do                                                                                1\n",
       "Live                   I Alone                                                                                          1\n",
       "Linkin Park            Wretches and Kings                                                                               1\n",
       "                       Runaway - Live                                                                                   1\n",
       "                       The Little Things Give You Away - Live from Shanghai, 2007                                       1\n",
       "                       Somewhere I Belong - Live                                                                        1\n",
       "                       Somewhere I Belong - Live in Koln, 2008                                                          1\n",
       "                       TINFOIL                                                                                          1\n",
       "                       Talking to Myself - One More Light Live                                                          1\n",
       "                       The Catalyst - Live from La Caja MÃ¡gica, Madrid, Spain, 11/7/2010                               1\n",
       "                       The Little Things Give You Away                                                                  1\n",
       "                       The Messenger - Live from Las Vegas, 2011                                                        1\n",
       "                       Wisdom, Justice, and Love                                                                        1\n",
       "                       The Radiance                                                                                     1\n",
       "                       VICTIMIZED                                                                                       1\n",
       "                       Wake                                                                                             1\n",
       "                       Wake - Live from Taipei, 2007                                                                    1\n",
       "                       What I've Done - Live from New York, 2008                                                        1\n",
       "                       When They Come for Me - Live from Paris, 2010                                                    1\n",
       "+44                    155                                                                                              1\n",
       "Length: 2078, dtype: int64"
      ]
     },
     "execution_count": 39,
     "metadata": {},
     "output_type": "execute_result"
    }
   ],
   "source": [
    "streaming_hist\\\n",
    "    .loc[lambda x: x.msPlayed>10000]\\\n",
    "    .assign(ds = lambda x: pd.to_datetime(x.endTime))\\\n",
    "    .assign(day = lambda x: x.ds.dt.date)\\\n",
    "    .groupby([\"artistName\", \"trackName\", \"day\"]).size().sort_values(ascending = False)\\\n",
    "    .groupby([\"artistName\", \"trackName\"]).size().sort_values(ascending = False)\\\n",
    "    "
   ]
  },
  {
   "cell_type": "code",
   "execution_count": 51,
   "metadata": {
    "ExecuteTime": {
     "end_time": "2020-12-06T13:10:05.027378Z",
     "start_time": "2020-12-06T13:10:04.964517Z"
    }
   },
   "outputs": [
    {
     "ename": "AttributeError",
     "evalue": "Can only use .dt accessor with datetimelike values",
     "output_type": "error",
     "traceback": [
      "\u001b[1;31m---------------------------------------------------------------------------\u001b[0m",
      "\u001b[1;31mAttributeError\u001b[0m                            Traceback (most recent call last)",
      "\u001b[1;32m<ipython-input-51-d5420fdab2d2>\u001b[0m in \u001b[0;36m<module>\u001b[1;34m()\u001b[0m\n\u001b[1;32m----> 1\u001b[1;33m \u001b[0mstreaming_hist\u001b[0m    \u001b[1;33m.\u001b[0m\u001b[0mloc\u001b[0m\u001b[1;33m[\u001b[0m\u001b[1;32mlambda\u001b[0m \u001b[0mx\u001b[0m\u001b[1;33m:\u001b[0m \u001b[0mx\u001b[0m\u001b[1;33m.\u001b[0m\u001b[0mmsPlayed\u001b[0m\u001b[1;33m>\u001b[0m\u001b[1;36m10000\u001b[0m\u001b[1;33m]\u001b[0m    \u001b[1;33m.\u001b[0m\u001b[0mloc\u001b[0m\u001b[1;33m[\u001b[0m\u001b[1;32mlambda\u001b[0m \u001b[0mx\u001b[0m\u001b[1;33m:\u001b[0m \u001b[0mx\u001b[0m\u001b[1;33m.\u001b[0m\u001b[0mtrackName\u001b[0m \u001b[1;33m==\u001b[0m \u001b[1;34m\"I Miss You\"\u001b[0m\u001b[1;33m]\u001b[0m    \u001b[1;33m.\u001b[0m\u001b[0massign\u001b[0m\u001b[1;33m(\u001b[0m\u001b[0mds\u001b[0m \u001b[1;33m=\u001b[0m \u001b[1;32mlambda\u001b[0m \u001b[0mx\u001b[0m\u001b[1;33m:\u001b[0m \u001b[0mpd\u001b[0m\u001b[1;33m.\u001b[0m\u001b[0mto_datetime\u001b[0m\u001b[1;33m(\u001b[0m\u001b[0mx\u001b[0m\u001b[1;33m.\u001b[0m\u001b[0mendTime\u001b[0m\u001b[1;33m)\u001b[0m\u001b[1;33m)\u001b[0m    \u001b[1;33m.\u001b[0m\u001b[0massign\u001b[0m\u001b[1;33m(\u001b[0m\u001b[0mday\u001b[0m \u001b[1;33m=\u001b[0m \u001b[1;32mlambda\u001b[0m \u001b[0mx\u001b[0m\u001b[1;33m:\u001b[0m \u001b[0mx\u001b[0m\u001b[1;33m.\u001b[0m\u001b[0mds\u001b[0m\u001b[1;33m.\u001b[0m\u001b[0mdt\u001b[0m\u001b[1;33m.\u001b[0m\u001b[0mdate\u001b[0m\u001b[1;33m)\u001b[0m    \u001b[1;33m.\u001b[0m\u001b[0mgroupby\u001b[0m\u001b[1;33m(\u001b[0m\u001b[1;33m[\u001b[0m\u001b[1;34m\"artistName\"\u001b[0m\u001b[1;33m,\u001b[0m \u001b[1;34m\"trackName\"\u001b[0m\u001b[1;33m,\u001b[0m \u001b[1;34m\"day\"\u001b[0m\u001b[1;33m]\u001b[0m\u001b[1;33m)\u001b[0m\u001b[1;33m.\u001b[0m\u001b[0msize\u001b[0m\u001b[1;33m(\u001b[0m\u001b[1;33m)\u001b[0m\u001b[1;33m.\u001b[0m\u001b[0mreset_index\u001b[0m\u001b[1;33m(\u001b[0m\u001b[1;33m)\u001b[0m\u001b[1;33m.\u001b[0m\u001b[0msort_values\u001b[0m\u001b[1;33m(\u001b[0m\u001b[1;34m\"day\"\u001b[0m\u001b[1;33m)\u001b[0m    \u001b[1;33m.\u001b[0m\u001b[0massign\u001b[0m\u001b[1;33m(\u001b[0m\u001b[0mweek\u001b[0m \u001b[1;33m=\u001b[0m \u001b[1;32mlambda\u001b[0m \u001b[0mx\u001b[0m\u001b[1;33m:\u001b[0m \u001b[0mx\u001b[0m\u001b[1;33m.\u001b[0m\u001b[0mday\u001b[0m \u001b[1;33m-\u001b[0m \u001b[0mpd\u001b[0m\u001b[1;33m.\u001b[0m\u001b[0mto_timedelta\u001b[0m\u001b[1;33m(\u001b[0m\u001b[0mx\u001b[0m\u001b[1;33m.\u001b[0m\u001b[0mday\u001b[0m\u001b[1;33m.\u001b[0m\u001b[0mdt\u001b[0m\u001b[1;33m.\u001b[0m\u001b[0mweekday\u001b[0m\u001b[1;33m,\u001b[0m \u001b[0munit\u001b[0m\u001b[1;33m=\u001b[0m\u001b[1;34m'D'\u001b[0m\u001b[1;33m)\u001b[0m\u001b[1;33m)\u001b[0m    \u001b[1;33m.\u001b[0m\u001b[0mplot\u001b[0m\u001b[1;33m(\u001b[0m\u001b[0mx\u001b[0m \u001b[1;33m=\u001b[0m \u001b[1;34m\"week\"\u001b[0m\u001b[1;33m,\u001b[0m \u001b[0my\u001b[0m \u001b[1;33m=\u001b[0m \u001b[1;36m0\u001b[0m\u001b[1;33m,\u001b[0m \u001b[0mkind\u001b[0m \u001b[1;33m=\u001b[0m \u001b[1;34m\"line\"\u001b[0m\u001b[1;33m)\u001b[0m\u001b[1;33m\u001b[0m\u001b[0m\n\u001b[0m",
      "\u001b[1;32m~\\Anaconda3\\lib\\site-packages\\pandas\\core\\frame.py\u001b[0m in \u001b[0;36massign\u001b[1;34m(self, **kwargs)\u001b[0m\n\u001b[0;32m   3308\u001b[0m         \u001b[1;32mif\u001b[0m \u001b[0mPY36\u001b[0m\u001b[1;33m:\u001b[0m\u001b[1;33m\u001b[0m\u001b[0m\n\u001b[0;32m   3309\u001b[0m             \u001b[1;32mfor\u001b[0m \u001b[0mk\u001b[0m\u001b[1;33m,\u001b[0m \u001b[0mv\u001b[0m \u001b[1;32min\u001b[0m \u001b[0mkwargs\u001b[0m\u001b[1;33m.\u001b[0m\u001b[0mitems\u001b[0m\u001b[1;33m(\u001b[0m\u001b[1;33m)\u001b[0m\u001b[1;33m:\u001b[0m\u001b[1;33m\u001b[0m\u001b[0m\n\u001b[1;32m-> 3310\u001b[1;33m                 \u001b[0mdata\u001b[0m\u001b[1;33m[\u001b[0m\u001b[0mk\u001b[0m\u001b[1;33m]\u001b[0m \u001b[1;33m=\u001b[0m \u001b[0mcom\u001b[0m\u001b[1;33m.\u001b[0m\u001b[0m_apply_if_callable\u001b[0m\u001b[1;33m(\u001b[0m\u001b[0mv\u001b[0m\u001b[1;33m,\u001b[0m \u001b[0mdata\u001b[0m\u001b[1;33m)\u001b[0m\u001b[1;33m\u001b[0m\u001b[0m\n\u001b[0m\u001b[0;32m   3311\u001b[0m         \u001b[1;32melse\u001b[0m\u001b[1;33m:\u001b[0m\u001b[1;33m\u001b[0m\u001b[0m\n\u001b[0;32m   3312\u001b[0m             \u001b[1;31m# <= 3.5: do all calculations first...\u001b[0m\u001b[1;33m\u001b[0m\u001b[1;33m\u001b[0m\u001b[0m\n",
      "\u001b[1;32m~\\Anaconda3\\lib\\site-packages\\pandas\\core\\common.py\u001b[0m in \u001b[0;36m_apply_if_callable\u001b[1;34m(maybe_callable, obj, **kwargs)\u001b[0m\n\u001b[0;32m    406\u001b[0m \u001b[1;33m\u001b[0m\u001b[0m\n\u001b[0;32m    407\u001b[0m     \u001b[1;32mif\u001b[0m \u001b[0mcallable\u001b[0m\u001b[1;33m(\u001b[0m\u001b[0mmaybe_callable\u001b[0m\u001b[1;33m)\u001b[0m\u001b[1;33m:\u001b[0m\u001b[1;33m\u001b[0m\u001b[0m\n\u001b[1;32m--> 408\u001b[1;33m         \u001b[1;32mreturn\u001b[0m \u001b[0mmaybe_callable\u001b[0m\u001b[1;33m(\u001b[0m\u001b[0mobj\u001b[0m\u001b[1;33m,\u001b[0m \u001b[1;33m**\u001b[0m\u001b[0mkwargs\u001b[0m\u001b[1;33m)\u001b[0m\u001b[1;33m\u001b[0m\u001b[0m\n\u001b[0m\u001b[0;32m    409\u001b[0m \u001b[1;33m\u001b[0m\u001b[0m\n\u001b[0;32m    410\u001b[0m     \u001b[1;32mreturn\u001b[0m \u001b[0mmaybe_callable\u001b[0m\u001b[1;33m\u001b[0m\u001b[0m\n",
      "\u001b[1;32m<ipython-input-51-d5420fdab2d2>\u001b[0m in \u001b[0;36m<lambda>\u001b[1;34m(x)\u001b[0m\n\u001b[1;32m----> 1\u001b[1;33m \u001b[0mstreaming_hist\u001b[0m    \u001b[1;33m.\u001b[0m\u001b[0mloc\u001b[0m\u001b[1;33m[\u001b[0m\u001b[1;32mlambda\u001b[0m \u001b[0mx\u001b[0m\u001b[1;33m:\u001b[0m \u001b[0mx\u001b[0m\u001b[1;33m.\u001b[0m\u001b[0mmsPlayed\u001b[0m\u001b[1;33m>\u001b[0m\u001b[1;36m10000\u001b[0m\u001b[1;33m]\u001b[0m    \u001b[1;33m.\u001b[0m\u001b[0mloc\u001b[0m\u001b[1;33m[\u001b[0m\u001b[1;32mlambda\u001b[0m \u001b[0mx\u001b[0m\u001b[1;33m:\u001b[0m \u001b[0mx\u001b[0m\u001b[1;33m.\u001b[0m\u001b[0mtrackName\u001b[0m \u001b[1;33m==\u001b[0m \u001b[1;34m\"I Miss You\"\u001b[0m\u001b[1;33m]\u001b[0m    \u001b[1;33m.\u001b[0m\u001b[0massign\u001b[0m\u001b[1;33m(\u001b[0m\u001b[0mds\u001b[0m \u001b[1;33m=\u001b[0m \u001b[1;32mlambda\u001b[0m \u001b[0mx\u001b[0m\u001b[1;33m:\u001b[0m \u001b[0mpd\u001b[0m\u001b[1;33m.\u001b[0m\u001b[0mto_datetime\u001b[0m\u001b[1;33m(\u001b[0m\u001b[0mx\u001b[0m\u001b[1;33m.\u001b[0m\u001b[0mendTime\u001b[0m\u001b[1;33m)\u001b[0m\u001b[1;33m)\u001b[0m    \u001b[1;33m.\u001b[0m\u001b[0massign\u001b[0m\u001b[1;33m(\u001b[0m\u001b[0mday\u001b[0m \u001b[1;33m=\u001b[0m \u001b[1;32mlambda\u001b[0m \u001b[0mx\u001b[0m\u001b[1;33m:\u001b[0m \u001b[0mx\u001b[0m\u001b[1;33m.\u001b[0m\u001b[0mds\u001b[0m\u001b[1;33m.\u001b[0m\u001b[0mdt\u001b[0m\u001b[1;33m.\u001b[0m\u001b[0mdate\u001b[0m\u001b[1;33m)\u001b[0m    \u001b[1;33m.\u001b[0m\u001b[0mgroupby\u001b[0m\u001b[1;33m(\u001b[0m\u001b[1;33m[\u001b[0m\u001b[1;34m\"artistName\"\u001b[0m\u001b[1;33m,\u001b[0m \u001b[1;34m\"trackName\"\u001b[0m\u001b[1;33m,\u001b[0m \u001b[1;34m\"day\"\u001b[0m\u001b[1;33m]\u001b[0m\u001b[1;33m)\u001b[0m\u001b[1;33m.\u001b[0m\u001b[0msize\u001b[0m\u001b[1;33m(\u001b[0m\u001b[1;33m)\u001b[0m\u001b[1;33m.\u001b[0m\u001b[0mreset_index\u001b[0m\u001b[1;33m(\u001b[0m\u001b[1;33m)\u001b[0m\u001b[1;33m.\u001b[0m\u001b[0msort_values\u001b[0m\u001b[1;33m(\u001b[0m\u001b[1;34m\"day\"\u001b[0m\u001b[1;33m)\u001b[0m    \u001b[1;33m.\u001b[0m\u001b[0massign\u001b[0m\u001b[1;33m(\u001b[0m\u001b[0mweek\u001b[0m \u001b[1;33m=\u001b[0m \u001b[1;32mlambda\u001b[0m \u001b[0mx\u001b[0m\u001b[1;33m:\u001b[0m \u001b[0mx\u001b[0m\u001b[1;33m.\u001b[0m\u001b[0mday\u001b[0m \u001b[1;33m-\u001b[0m \u001b[0mpd\u001b[0m\u001b[1;33m.\u001b[0m\u001b[0mto_timedelta\u001b[0m\u001b[1;33m(\u001b[0m\u001b[0mx\u001b[0m\u001b[1;33m.\u001b[0m\u001b[0mday\u001b[0m\u001b[1;33m.\u001b[0m\u001b[0mdt\u001b[0m\u001b[1;33m.\u001b[0m\u001b[0mweekday\u001b[0m\u001b[1;33m,\u001b[0m \u001b[0munit\u001b[0m\u001b[1;33m=\u001b[0m\u001b[1;34m'D'\u001b[0m\u001b[1;33m)\u001b[0m\u001b[1;33m)\u001b[0m    \u001b[1;33m.\u001b[0m\u001b[0mplot\u001b[0m\u001b[1;33m(\u001b[0m\u001b[0mx\u001b[0m \u001b[1;33m=\u001b[0m \u001b[1;34m\"week\"\u001b[0m\u001b[1;33m,\u001b[0m \u001b[0my\u001b[0m \u001b[1;33m=\u001b[0m \u001b[1;36m0\u001b[0m\u001b[1;33m,\u001b[0m \u001b[0mkind\u001b[0m \u001b[1;33m=\u001b[0m \u001b[1;34m\"line\"\u001b[0m\u001b[1;33m)\u001b[0m\u001b[1;33m\u001b[0m\u001b[0m\n\u001b[0m",
      "\u001b[1;32m~\\Anaconda3\\lib\\site-packages\\pandas\\core\\generic.py\u001b[0m in \u001b[0;36m__getattr__\u001b[1;34m(self, name)\u001b[0m\n\u001b[0;32m   4370\u001b[0m         if (name in self._internal_names_set or name in self._metadata or\n\u001b[0;32m   4371\u001b[0m                 name in self._accessors):\n\u001b[1;32m-> 4372\u001b[1;33m             \u001b[1;32mreturn\u001b[0m \u001b[0mobject\u001b[0m\u001b[1;33m.\u001b[0m\u001b[0m__getattribute__\u001b[0m\u001b[1;33m(\u001b[0m\u001b[0mself\u001b[0m\u001b[1;33m,\u001b[0m \u001b[0mname\u001b[0m\u001b[1;33m)\u001b[0m\u001b[1;33m\u001b[0m\u001b[0m\n\u001b[0m\u001b[0;32m   4373\u001b[0m         \u001b[1;32melse\u001b[0m\u001b[1;33m:\u001b[0m\u001b[1;33m\u001b[0m\u001b[0m\n\u001b[0;32m   4374\u001b[0m             \u001b[1;32mif\u001b[0m \u001b[0mself\u001b[0m\u001b[1;33m.\u001b[0m\u001b[0m_info_axis\u001b[0m\u001b[1;33m.\u001b[0m\u001b[0m_can_hold_identifiers_and_holds_name\u001b[0m\u001b[1;33m(\u001b[0m\u001b[0mname\u001b[0m\u001b[1;33m)\u001b[0m\u001b[1;33m:\u001b[0m\u001b[1;33m\u001b[0m\u001b[0m\n",
      "\u001b[1;32m~\\Anaconda3\\lib\\site-packages\\pandas\\core\\accessor.py\u001b[0m in \u001b[0;36m__get__\u001b[1;34m(self, obj, cls)\u001b[0m\n\u001b[0;32m    131\u001b[0m             \u001b[1;31m# we're accessing the attribute of the class, i.e., Dataset.geo\u001b[0m\u001b[1;33m\u001b[0m\u001b[1;33m\u001b[0m\u001b[0m\n\u001b[0;32m    132\u001b[0m             \u001b[1;32mreturn\u001b[0m \u001b[0mself\u001b[0m\u001b[1;33m.\u001b[0m\u001b[0m_accessor\u001b[0m\u001b[1;33m\u001b[0m\u001b[0m\n\u001b[1;32m--> 133\u001b[1;33m         \u001b[0maccessor_obj\u001b[0m \u001b[1;33m=\u001b[0m \u001b[0mself\u001b[0m\u001b[1;33m.\u001b[0m\u001b[0m_accessor\u001b[0m\u001b[1;33m(\u001b[0m\u001b[0mobj\u001b[0m\u001b[1;33m)\u001b[0m\u001b[1;33m\u001b[0m\u001b[0m\n\u001b[0m\u001b[0;32m    134\u001b[0m         \u001b[1;31m# Replace the property with the accessor object. Inspired by:\u001b[0m\u001b[1;33m\u001b[0m\u001b[1;33m\u001b[0m\u001b[0m\n\u001b[0;32m    135\u001b[0m         \u001b[1;31m# http://www.pydanny.com/cached-property.html\u001b[0m\u001b[1;33m\u001b[0m\u001b[1;33m\u001b[0m\u001b[0m\n",
      "\u001b[1;32m~\\Anaconda3\\lib\\site-packages\\pandas\\core\\indexes\\accessors.py\u001b[0m in \u001b[0;36m__new__\u001b[1;34m(cls, data)\u001b[0m\n\u001b[0;32m    323\u001b[0m             \u001b[1;32mpass\u001b[0m  \u001b[1;31m# we raise an attribute error anyway\u001b[0m\u001b[1;33m\u001b[0m\u001b[0m\n\u001b[0;32m    324\u001b[0m \u001b[1;33m\u001b[0m\u001b[0m\n\u001b[1;32m--> 325\u001b[1;33m         raise AttributeError(\"Can only use .dt accessor with datetimelike \"\n\u001b[0m\u001b[0;32m    326\u001b[0m                              \"values\")\n",
      "\u001b[1;31mAttributeError\u001b[0m: Can only use .dt accessor with datetimelike values"
     ]
    }
   ],
   "source": [
    "streaming_hist\\\n",
    "    .loc[lambda x: x.msPlayed>10000]\\\n",
    "    .loc[lambda x: x.trackName == \"I Miss You\"]\\\n",
    "    .assign(ds = lambda x: pd.to_datetime(x.endTime))\\\n",
    "    .assign(day = lambda x: x.ds.dt.date)\\\n",
    "    .groupby([\"artistName\", \"trackName\", \"day\"]).size().reset_index().sort_values(\"day\")\\\n",
    "    .assign(week = lambda x: x.day - pd.to_timedelta(x.day.dt.weekday, unit='D'))\\\n",
    "    .plot(x = \"week\", y = 0, kind = \"line\")"
   ]
  },
  {
   "cell_type": "code",
   "execution_count": 31,
   "metadata": {
    "ExecuteTime": {
     "end_time": "2020-12-06T12:56:09.041862Z",
     "start_time": "2020-12-06T12:56:09.015930Z"
    }
   },
   "outputs": [
    {
     "data": {
      "text/plain": [
       "artistName    object\n",
       "endTime       object\n",
       "msPlayed       int64\n",
       "trackName     object\n",
       "dtype: object"
      ]
     },
     "execution_count": 31,
     "metadata": {},
     "output_type": "execute_result"
    }
   ],
   "source": [
    "streaming_hist.dtypes"
   ]
  },
  {
   "cell_type": "code",
   "execution_count": 17,
   "metadata": {
    "ExecuteTime": {
     "end_time": "2020-12-06T12:49:40.037690Z",
     "start_time": "2020-12-06T12:49:39.940918Z"
    }
   },
   "outputs": [
    {
     "data": {
      "text/html": [
       "<div>\n",
       "<style scoped>\n",
       "    .dataframe tbody tr th:only-of-type {\n",
       "        vertical-align: middle;\n",
       "    }\n",
       "\n",
       "    .dataframe tbody tr th {\n",
       "        vertical-align: top;\n",
       "    }\n",
       "\n",
       "    .dataframe thead th {\n",
       "        text-align: right;\n",
       "    }\n",
       "</style>\n",
       "<table border=\"1\" class=\"dataframe\">\n",
       "  <thead>\n",
       "    <tr style=\"text-align: right;\">\n",
       "      <th></th>\n",
       "      <th>artistName</th>\n",
       "      <th>trackName</th>\n",
       "      <th>0</th>\n",
       "    </tr>\n",
       "  </thead>\n",
       "  <tbody>\n",
       "    <tr>\n",
       "      <th>0</th>\n",
       "      <td>blink-182</td>\n",
       "      <td>I Miss You</td>\n",
       "      <td>371</td>\n",
       "    </tr>\n",
       "    <tr>\n",
       "      <th>1</th>\n",
       "      <td>blink-182</td>\n",
       "      <td>Adam's Song</td>\n",
       "      <td>352</td>\n",
       "    </tr>\n",
       "    <tr>\n",
       "      <th>2</th>\n",
       "      <td>blink-182</td>\n",
       "      <td>All The Small Things</td>\n",
       "      <td>351</td>\n",
       "    </tr>\n",
       "    <tr>\n",
       "      <th>3</th>\n",
       "      <td>blink-182</td>\n",
       "      <td>Stay Together For The Kids</td>\n",
       "      <td>342</td>\n",
       "    </tr>\n",
       "    <tr>\n",
       "      <th>4</th>\n",
       "      <td>blink-182</td>\n",
       "      <td>What's My Age Again?</td>\n",
       "      <td>328</td>\n",
       "    </tr>\n",
       "    <tr>\n",
       "      <th>5</th>\n",
       "      <td>blink-182</td>\n",
       "      <td>After Midnight</td>\n",
       "      <td>304</td>\n",
       "    </tr>\n",
       "    <tr>\n",
       "      <th>6</th>\n",
       "      <td>blink-182</td>\n",
       "      <td>Dammit</td>\n",
       "      <td>298</td>\n",
       "    </tr>\n",
       "    <tr>\n",
       "      <th>7</th>\n",
       "      <td>blink-182</td>\n",
       "      <td>Man Overboard</td>\n",
       "      <td>277</td>\n",
       "    </tr>\n",
       "    <tr>\n",
       "      <th>8</th>\n",
       "      <td>Red Hot Chili Peppers</td>\n",
       "      <td>Wet Sand</td>\n",
       "      <td>249</td>\n",
       "    </tr>\n",
       "    <tr>\n",
       "      <th>9</th>\n",
       "      <td>blink-182</td>\n",
       "      <td>Feeling This</td>\n",
       "      <td>241</td>\n",
       "    </tr>\n",
       "    <tr>\n",
       "      <th>10</th>\n",
       "      <td>blink-182</td>\n",
       "      <td>Going Away To College</td>\n",
       "      <td>227</td>\n",
       "    </tr>\n",
       "    <tr>\n",
       "      <th>11</th>\n",
       "      <td>Scorpions</td>\n",
       "      <td>Still Loving You - 2015 - Remaster</td>\n",
       "      <td>220</td>\n",
       "    </tr>\n",
       "    <tr>\n",
       "      <th>12</th>\n",
       "      <td>Seether</td>\n",
       "      <td>Broken</td>\n",
       "      <td>220</td>\n",
       "    </tr>\n",
       "    <tr>\n",
       "      <th>13</th>\n",
       "      <td>blink-182</td>\n",
       "      <td>Dumpweed</td>\n",
       "      <td>219</td>\n",
       "    </tr>\n",
       "    <tr>\n",
       "      <th>14</th>\n",
       "      <td>Red Hot Chili Peppers</td>\n",
       "      <td>Road Trippin'</td>\n",
       "      <td>215</td>\n",
       "    </tr>\n",
       "    <tr>\n",
       "      <th>15</th>\n",
       "      <td>blink-182</td>\n",
       "      <td>The Rock Show</td>\n",
       "      <td>214</td>\n",
       "    </tr>\n",
       "    <tr>\n",
       "      <th>16</th>\n",
       "      <td>Sum 41</td>\n",
       "      <td>Best Of Me</td>\n",
       "      <td>212</td>\n",
       "    </tr>\n",
       "    <tr>\n",
       "      <th>17</th>\n",
       "      <td>Sum 41</td>\n",
       "      <td>Pieces</td>\n",
       "      <td>208</td>\n",
       "    </tr>\n",
       "    <tr>\n",
       "      <th>18</th>\n",
       "      <td>Sum 41</td>\n",
       "      <td>The Hell Song</td>\n",
       "      <td>206</td>\n",
       "    </tr>\n",
       "    <tr>\n",
       "      <th>19</th>\n",
       "      <td>blink-182</td>\n",
       "      <td>First Date</td>\n",
       "      <td>203</td>\n",
       "    </tr>\n",
       "    <tr>\n",
       "      <th>20</th>\n",
       "      <td>blink-182</td>\n",
       "      <td>Dysentery Gary</td>\n",
       "      <td>203</td>\n",
       "    </tr>\n",
       "    <tr>\n",
       "      <th>21</th>\n",
       "      <td>Red Hot Chili Peppers</td>\n",
       "      <td>Under the Bridge</td>\n",
       "      <td>198</td>\n",
       "    </tr>\n",
       "    <tr>\n",
       "      <th>22</th>\n",
       "      <td>Foo Fighters</td>\n",
       "      <td>Times Like These</td>\n",
       "      <td>191</td>\n",
       "    </tr>\n",
       "    <tr>\n",
       "      <th>23</th>\n",
       "      <td>Foo Fighters</td>\n",
       "      <td>All My Life</td>\n",
       "      <td>189</td>\n",
       "    </tr>\n",
       "    <tr>\n",
       "      <th>24</th>\n",
       "      <td>Eagles</td>\n",
       "      <td>Hotel California - 2013 Remaster</td>\n",
       "      <td>189</td>\n",
       "    </tr>\n",
       "    <tr>\n",
       "      <th>25</th>\n",
       "      <td>Sum 41</td>\n",
       "      <td>War</td>\n",
       "      <td>186</td>\n",
       "    </tr>\n",
       "    <tr>\n",
       "      <th>26</th>\n",
       "      <td>Sum 41</td>\n",
       "      <td>Some Say</td>\n",
       "      <td>185</td>\n",
       "    </tr>\n",
       "    <tr>\n",
       "      <th>27</th>\n",
       "      <td>Plain White T's</td>\n",
       "      <td>Hey There Delilah</td>\n",
       "      <td>185</td>\n",
       "    </tr>\n",
       "    <tr>\n",
       "      <th>28</th>\n",
       "      <td>Foo Fighters</td>\n",
       "      <td>Everlong - Acoustic Version</td>\n",
       "      <td>183</td>\n",
       "    </tr>\n",
       "    <tr>\n",
       "      <th>29</th>\n",
       "      <td>U2</td>\n",
       "      <td>With Or Without You - Remastered</td>\n",
       "      <td>181</td>\n",
       "    </tr>\n",
       "    <tr>\n",
       "      <th>...</th>\n",
       "      <td>...</td>\n",
       "      <td>...</td>\n",
       "      <td>...</td>\n",
       "    </tr>\n",
       "    <tr>\n",
       "      <th>3661</th>\n",
       "      <td>Michael Jackson</td>\n",
       "      <td>Beat It</td>\n",
       "      <td>1</td>\n",
       "    </tr>\n",
       "    <tr>\n",
       "      <th>3662</th>\n",
       "      <td>Michael Giacchino</td>\n",
       "      <td>Married Life</td>\n",
       "      <td>1</td>\n",
       "    </tr>\n",
       "    <tr>\n",
       "      <th>3663</th>\n",
       "      <td>Marmozets</td>\n",
       "      <td>Play</td>\n",
       "      <td>1</td>\n",
       "    </tr>\n",
       "    <tr>\n",
       "      <th>3664</th>\n",
       "      <td>Marshmello</td>\n",
       "      <td>Tongue Tied (with YUNGBLUD &amp; blackbear)</td>\n",
       "      <td>1</td>\n",
       "    </tr>\n",
       "    <tr>\n",
       "      <th>3665</th>\n",
       "      <td>Marvelous 3</td>\n",
       "      <td>Freak of the Week</td>\n",
       "      <td>1</td>\n",
       "    </tr>\n",
       "    <tr>\n",
       "      <th>3666</th>\n",
       "      <td>Mastodon</td>\n",
       "      <td>Colony of Birchmen</td>\n",
       "      <td>1</td>\n",
       "    </tr>\n",
       "    <tr>\n",
       "      <th>3667</th>\n",
       "      <td>Mastodon</td>\n",
       "      <td>Show Yourself</td>\n",
       "      <td>1</td>\n",
       "    </tr>\n",
       "    <tr>\n",
       "      <th>3668</th>\n",
       "      <td>Matchbook Romance</td>\n",
       "      <td>My Eyes Burn</td>\n",
       "      <td>1</td>\n",
       "    </tr>\n",
       "    <tr>\n",
       "      <th>3669</th>\n",
       "      <td>Matchbox Twenty</td>\n",
       "      <td>3AM</td>\n",
       "      <td>1</td>\n",
       "    </tr>\n",
       "    <tr>\n",
       "      <th>3670</th>\n",
       "      <td>Matchbox Twenty</td>\n",
       "      <td>If You're Gone</td>\n",
       "      <td>1</td>\n",
       "    </tr>\n",
       "    <tr>\n",
       "      <th>3671</th>\n",
       "      <td>Matt Nathanson</td>\n",
       "      <td>Come On Get Higher</td>\n",
       "      <td>1</td>\n",
       "    </tr>\n",
       "    <tr>\n",
       "      <th>3672</th>\n",
       "      <td>Matt Skiba and the Sekrets</td>\n",
       "      <td>Voices</td>\n",
       "      <td>1</td>\n",
       "    </tr>\n",
       "    <tr>\n",
       "      <th>3673</th>\n",
       "      <td>Matthew Perryman Jones</td>\n",
       "      <td>Save You</td>\n",
       "      <td>1</td>\n",
       "    </tr>\n",
       "    <tr>\n",
       "      <th>3674</th>\n",
       "      <td>Matthew Sweet</td>\n",
       "      <td>Sick of Myself</td>\n",
       "      <td>1</td>\n",
       "    </tr>\n",
       "    <tr>\n",
       "      <th>3675</th>\n",
       "      <td>Mayday Parade</td>\n",
       "      <td>Somebody That I Used To Know</td>\n",
       "      <td>1</td>\n",
       "    </tr>\n",
       "    <tr>\n",
       "      <th>3676</th>\n",
       "      <td>Me First and the Gimme Gimmes</td>\n",
       "      <td>Goodbye Earl</td>\n",
       "      <td>1</td>\n",
       "    </tr>\n",
       "    <tr>\n",
       "      <th>3677</th>\n",
       "      <td>Me First and the Gimme Gimmes</td>\n",
       "      <td>Heart of Glass</td>\n",
       "      <td>1</td>\n",
       "    </tr>\n",
       "    <tr>\n",
       "      <th>3678</th>\n",
       "      <td>Me First and the Gimme Gimmes</td>\n",
       "      <td>Over the Rainbow</td>\n",
       "      <td>1</td>\n",
       "    </tr>\n",
       "    <tr>\n",
       "      <th>3679</th>\n",
       "      <td>Me First and the Gimme Gimmes</td>\n",
       "      <td>Wild World</td>\n",
       "      <td>1</td>\n",
       "    </tr>\n",
       "    <tr>\n",
       "      <th>3680</th>\n",
       "      <td>Meat Puppets</td>\n",
       "      <td>Backwater</td>\n",
       "      <td>1</td>\n",
       "    </tr>\n",
       "    <tr>\n",
       "      <th>3681</th>\n",
       "      <td>Meat Puppets</td>\n",
       "      <td>Lake Of Fire</td>\n",
       "      <td>1</td>\n",
       "    </tr>\n",
       "    <tr>\n",
       "      <th>3682</th>\n",
       "      <td>Megadeth</td>\n",
       "      <td>Peace Sells - Remastered</td>\n",
       "      <td>1</td>\n",
       "    </tr>\n",
       "    <tr>\n",
       "      <th>3683</th>\n",
       "      <td>Megadeth</td>\n",
       "      <td>Sudden Death</td>\n",
       "      <td>1</td>\n",
       "    </tr>\n",
       "    <tr>\n",
       "      <th>3684</th>\n",
       "      <td>Melvins</td>\n",
       "      <td>Honey Bucket</td>\n",
       "      <td>1</td>\n",
       "    </tr>\n",
       "    <tr>\n",
       "      <th>3685</th>\n",
       "      <td>Mest</td>\n",
       "      <td>Drawing Board</td>\n",
       "      <td>1</td>\n",
       "    </tr>\n",
       "    <tr>\n",
       "      <th>3686</th>\n",
       "      <td>Metallica</td>\n",
       "      <td>Fuel</td>\n",
       "      <td>1</td>\n",
       "    </tr>\n",
       "    <tr>\n",
       "      <th>3687</th>\n",
       "      <td>Metallica</td>\n",
       "      <td>The Day That Never Comes</td>\n",
       "      <td>1</td>\n",
       "    </tr>\n",
       "    <tr>\n",
       "      <th>3688</th>\n",
       "      <td>Metallica</td>\n",
       "      <td>Whiskey In The Jar</td>\n",
       "      <td>1</td>\n",
       "    </tr>\n",
       "    <tr>\n",
       "      <th>3689</th>\n",
       "      <td>Michael Bolton</td>\n",
       "      <td>When a Man Loves a Woman</td>\n",
       "      <td>1</td>\n",
       "    </tr>\n",
       "    <tr>\n",
       "      <th>3690</th>\n",
       "      <td>(Hed) P.E.</td>\n",
       "      <td>Raise Hell</td>\n",
       "      <td>1</td>\n",
       "    </tr>\n",
       "  </tbody>\n",
       "</table>\n",
       "<p>3691 rows × 3 columns</p>\n",
       "</div>"
      ],
      "text/plain": [
       "                         artistName                                trackName  \\\n",
       "0                         blink-182                               I Miss You   \n",
       "1                         blink-182                              Adam's Song   \n",
       "2                         blink-182                     All The Small Things   \n",
       "3                         blink-182               Stay Together For The Kids   \n",
       "4                         blink-182                     What's My Age Again?   \n",
       "5                         blink-182                           After Midnight   \n",
       "6                         blink-182                                   Dammit   \n",
       "7                         blink-182                            Man Overboard   \n",
       "8             Red Hot Chili Peppers                                 Wet Sand   \n",
       "9                         blink-182                             Feeling This   \n",
       "10                        blink-182                    Going Away To College   \n",
       "11                        Scorpions       Still Loving You - 2015 - Remaster   \n",
       "12                          Seether                                   Broken   \n",
       "13                        blink-182                                 Dumpweed   \n",
       "14            Red Hot Chili Peppers                            Road Trippin'   \n",
       "15                        blink-182                            The Rock Show   \n",
       "16                           Sum 41                               Best Of Me   \n",
       "17                           Sum 41                                   Pieces   \n",
       "18                           Sum 41                            The Hell Song   \n",
       "19                        blink-182                               First Date   \n",
       "20                        blink-182                           Dysentery Gary   \n",
       "21            Red Hot Chili Peppers                         Under the Bridge   \n",
       "22                     Foo Fighters                         Times Like These   \n",
       "23                     Foo Fighters                              All My Life   \n",
       "24                           Eagles         Hotel California - 2013 Remaster   \n",
       "25                           Sum 41                                      War   \n",
       "26                           Sum 41                                 Some Say   \n",
       "27                  Plain White T's                        Hey There Delilah   \n",
       "28                     Foo Fighters              Everlong - Acoustic Version   \n",
       "29                               U2         With Or Without You - Remastered   \n",
       "...                             ...                                      ...   \n",
       "3661                Michael Jackson                                  Beat It   \n",
       "3662              Michael Giacchino                             Married Life   \n",
       "3663                      Marmozets                                     Play   \n",
       "3664                     Marshmello  Tongue Tied (with YUNGBLUD & blackbear)   \n",
       "3665                    Marvelous 3                        Freak of the Week   \n",
       "3666                       Mastodon                       Colony of Birchmen   \n",
       "3667                       Mastodon                            Show Yourself   \n",
       "3668              Matchbook Romance                             My Eyes Burn   \n",
       "3669                Matchbox Twenty                                      3AM   \n",
       "3670                Matchbox Twenty                           If You're Gone   \n",
       "3671                 Matt Nathanson                       Come On Get Higher   \n",
       "3672     Matt Skiba and the Sekrets                                   Voices   \n",
       "3673         Matthew Perryman Jones                                 Save You   \n",
       "3674                  Matthew Sweet                           Sick of Myself   \n",
       "3675                  Mayday Parade             Somebody That I Used To Know   \n",
       "3676  Me First and the Gimme Gimmes                             Goodbye Earl   \n",
       "3677  Me First and the Gimme Gimmes                           Heart of Glass   \n",
       "3678  Me First and the Gimme Gimmes                         Over the Rainbow   \n",
       "3679  Me First and the Gimme Gimmes                               Wild World   \n",
       "3680                   Meat Puppets                                Backwater   \n",
       "3681                   Meat Puppets                             Lake Of Fire   \n",
       "3682                       Megadeth                 Peace Sells - Remastered   \n",
       "3683                       Megadeth                             Sudden Death   \n",
       "3684                        Melvins                             Honey Bucket   \n",
       "3685                           Mest                            Drawing Board   \n",
       "3686                      Metallica                                     Fuel   \n",
       "3687                      Metallica                 The Day That Never Comes   \n",
       "3688                      Metallica                       Whiskey In The Jar   \n",
       "3689                 Michael Bolton                 When a Man Loves a Woman   \n",
       "3690                     (Hed) P.E.                               Raise Hell   \n",
       "\n",
       "        0  \n",
       "0     371  \n",
       "1     352  \n",
       "2     351  \n",
       "3     342  \n",
       "4     328  \n",
       "5     304  \n",
       "6     298  \n",
       "7     277  \n",
       "8     249  \n",
       "9     241  \n",
       "10    227  \n",
       "11    220  \n",
       "12    220  \n",
       "13    219  \n",
       "14    215  \n",
       "15    214  \n",
       "16    212  \n",
       "17    208  \n",
       "18    206  \n",
       "19    203  \n",
       "20    203  \n",
       "21    198  \n",
       "22    191  \n",
       "23    189  \n",
       "24    189  \n",
       "25    186  \n",
       "26    185  \n",
       "27    185  \n",
       "28    183  \n",
       "29    181  \n",
       "...   ...  \n",
       "3661    1  \n",
       "3662    1  \n",
       "3663    1  \n",
       "3664    1  \n",
       "3665    1  \n",
       "3666    1  \n",
       "3667    1  \n",
       "3668    1  \n",
       "3669    1  \n",
       "3670    1  \n",
       "3671    1  \n",
       "3672    1  \n",
       "3673    1  \n",
       "3674    1  \n",
       "3675    1  \n",
       "3676    1  \n",
       "3677    1  \n",
       "3678    1  \n",
       "3679    1  \n",
       "3680    1  \n",
       "3681    1  \n",
       "3682    1  \n",
       "3683    1  \n",
       "3684    1  \n",
       "3685    1  \n",
       "3686    1  \n",
       "3687    1  \n",
       "3688    1  \n",
       "3689    1  \n",
       "3690    1  \n",
       "\n",
       "[3691 rows x 3 columns]"
      ]
     },
     "execution_count": 17,
     "metadata": {},
     "output_type": "execute_result"
    }
   ],
   "source": [
    "streaming_hist.groupby([\"artistName\", \"trackName\"]).size().sort_values(ascending = False)\\\n",
    "    .reset_index()"
   ]
  }
 ],
 "metadata": {
  "kernelspec": {
   "display_name": "Python 3",
   "language": "python",
   "name": "python3"
  },
  "language_info": {
   "codemirror_mode": {
    "name": "ipython",
    "version": 3
   },
   "file_extension": ".py",
   "mimetype": "text/x-python",
   "name": "python",
   "nbconvert_exporter": "python",
   "pygments_lexer": "ipython3",
   "version": "3.6.4"
  }
 },
 "nbformat": 4,
 "nbformat_minor": 2
}
